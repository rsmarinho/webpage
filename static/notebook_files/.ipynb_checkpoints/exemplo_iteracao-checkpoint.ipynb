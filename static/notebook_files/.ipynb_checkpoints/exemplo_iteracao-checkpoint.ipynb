{
 "cells": [
  {
   "cell_type": "markdown",
   "metadata": {},
   "source": [
    "# Procedimento para cálculo de corrente e tensão em diodo utilizando modelo exponencial.\n",
    "\n",
    "Cada célula é precedida de um comentário sobre os comandos utilizados."
   ]
  },
  {
   "cell_type": "markdown",
   "metadata": {},
   "source": [
    "Importa as bibliotecas necessárias para o funcionamento do script python."
   ]
  },
  {
   "cell_type": "code",
   "execution_count": 6,
   "metadata": {},
   "outputs": [],
   "source": [
    "import numpy as np"
   ]
  },
  {
   "cell_type": "markdown",
   "metadata": {},
   "source": [
    "Inicia os valores dos modelos de componentes do circuito, bem como a tensão aplicada:\n",
    "\n",
    "```\n",
    " ,------[-R1-]------,\n",
    " |                  |\n",
    " O Vi               V D1\n",
    " |                  -\n",
    " '------------------'\n",
    "```\n",
    " \n",
    "O resistor R1 é definido pelo variável 'r', a tensão aplicada no circuito (Vi) é definida pela variável 'vdd'. As variáveis 'iss', 'eta' e 'vt' são respectivamente a *corrente reversa do diodo*, a *constante de idealidade do diodo* e a *tensão térmica dependente da temperatura à qual o diodo está submetido*. "
   ]
  },
  {
   "cell_type": "code",
   "execution_count": 7,
   "metadata": {},
   "outputs": [],
   "source": [
    "vdd=10;\n",
    "r=680;\n",
    "iss=14.1e-9;\n",
    "eta=1.984;\n",
    "vt=25.8649e-3;"
   ]
  },
  {
   "cell_type": "markdown",
   "metadata": {},
   "source": [
    "Iniciamos a sequência de com o chute inicial do valor de tensão aplicado nos terminais do diodo D1"
   ]
  },
  {
   "cell_type": "code",
   "execution_count": 8,
   "metadata": {},
   "outputs": [],
   "source": [
    "vd=0"
   ]
  },
  {
   "cell_type": "markdown",
   "metadata": {},
   "source": [
    "Após a definição das equações de Kirchoff do circuito, inicia-se a sequência de cálculo.\n",
    "\n",
    "Iteração 1:"
   ]
  },
  {
   "cell_type": "code",
   "execution_count": 9,
   "metadata": {},
   "outputs": [
    {
     "name": "stdout",
     "output_type": "stream",
     "text": [
      "0.014705882352941176\n",
      "0.7111152142561612\n"
     ]
    }
   ],
   "source": [
    "idd=(vdd-3*vd)/r\n",
    "vd=eta*vt*np.log(idd/iss)\n",
    "print(idd);\n",
    "print(vd);"
   ]
  },
  {
   "cell_type": "markdown",
   "metadata": {},
   "source": [
    "Iteração 2:"
   ]
  },
  {
   "cell_type": "code",
   "execution_count": 10,
   "metadata": {},
   "outputs": [],
   "source": [
    "idd=(vdd-3*vd)/r\n",
    "vd=eta*vt*np.log(idd/iss)\n",
    "print(idd);\n",
    "print(vd);"
   ]
  },
  {
   "cell_type": "code",
   "execution_count": null,
   "metadata": {},
   "outputs": [],
   "source": [
    "Iteração 3:"
   ]
  },
  {
   "cell_type": "code",
   "execution_count": 11,
   "metadata": {},
   "outputs": [
    {
     "name": "stdout",
     "output_type": "stream",
     "text": [
      "0.011622933082601428\n",
      "0.6990422394683531\n"
     ]
    }
   ],
   "source": [
    "idd=(vdd-3*vd)/r\n",
    "vd=eta*vt*np.log(idd/iss)\n",
    "print(idd);\n",
    "print(vd);"
   ]
  }
 ],
 "metadata": {
  "kernelspec": {
   "display_name": "Python 3",
   "language": "python",
   "name": "python3"
  },
  "language_info": {
   "codemirror_mode": {
    "name": "ipython",
    "version": 3
   },
   "file_extension": ".py",
   "mimetype": "text/x-python",
   "name": "python",
   "nbconvert_exporter": "python",
   "pygments_lexer": "ipython3",
   "version": "3.6.8"
  }
 },
 "nbformat": 4,
 "nbformat_minor": 2
}
