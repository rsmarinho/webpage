{
 "cells": [
  {
   "cell_type": "markdown",
   "metadata": {},
   "source": [
    "# Notebook para estudo e explicação de polarização de transistores TBJ\n",
    "\n",
    "Nesse notebook estudaremos a polarização do transistor bipolar de junção. Como exemplo utilizaremos o transistor para propósito geral QN2222a. O datasheet do transistor em questão (fabricado pela farchild) é encontrado em [link][link], outros datasheets (com as mesmas informações) podem ser encontrados facilmente em outros sites na internet (you can google it). O modelo SPICE do transistor também está no data sheet, e replicado logo abaixo:\n",
    "\n",
    ".model Q2N2222 \n",
    "NPN(Is = 14.34f Xti = 3 Eg = 1.11 Vaf = 74.03 Bf = 255.9 Ne = 1.307 Ise = 14.34 Ikf = .2847 Xtb = 1.5 Br = 6.092 Isc = 0 Ikr = 0 Rc = 1 Cjc = 7.306p Mjc = .3416 Vjc = .75 Fc = .5 Cje = 22.01p Mje = .377 Vje = .75 Tr = 46.91n Tf = 411.1p Itf = .6 Vtf = 1.7 Xtf = 3 Rb = 10)"
   ]
  },
  {
   "cell_type": "code",
   "execution_count": 1,
   "metadata": {},
   "outputs": [],
   "source": [
    "import numpy as np # Carrega numpy para matemática computacional\n",
    "import matplotlib.pyplot as plt # Carrega pyplot para plotar gráficos"
   ]
  },
  {
   "cell_type": "code",
   "execution_count": 2,
   "metadata": {},
   "outputs": [],
   "source": [
    "k=1.38064852e-23\n",
    "q=1.60217662e-19"
   ]
  },
  {
   "cell_type": "code",
   "execution_count": 3,
   "metadata": {},
   "outputs": [],
   "source": [
    "def ctok(c):\n",
    "    return c+273.15"
   ]
  },
  {
   "cell_type": "code",
   "execution_count": 4,
   "metadata": {},
   "outputs": [],
   "source": [
    "def vt_val(temp):\n",
    "    return k*ctok(temp)/q"
   ]
  },
  {
   "cell_type": "code",
   "execution_count": 5,
   "metadata": {},
   "outputs": [
    {
     "data": {
      "text/plain": [
       "0.02586491702007235"
      ]
     },
     "execution_count": 5,
     "metadata": {},
     "output_type": "execute_result"
    }
   ],
   "source": [
    "vt_val(27)"
   ]
  },
  {
   "cell_type": "code",
   "execution_count": 6,
   "metadata": {},
   "outputs": [
    {
     "data": {
      "text/plain": [
       "0.030173582190832365"
      ]
     },
     "execution_count": 6,
     "metadata": {},
     "output_type": "execute_result"
    }
   ],
   "source": [
    "vt_val(77)"
   ]
  },
  {
   "cell_type": "markdown",
   "metadata": {},
   "source": [
    "___________\n",
    "Para compreender o efeito da temperatura, primeiramente veja que, ao aumentar a temperatura o termo da função exponencial diminui, fazendo com que a função torne-se *mais lenta*. Portanto, assumindo valores mais baixos. Isso significa que para os mesmos valores de polarização do transistor, o aumento da temperatura faz com que a corrente de coletor diminua."
   ]
  },
  {
   "cell_type": "code",
   "execution_count": 7,
   "metadata": {},
   "outputs": [
    {
     "data": {
      "text/plain": [
       "[<matplotlib.lines.Line2D at 0x7eff570a9d68>]"
      ]
     },
     "execution_count": 7,
     "metadata": {},
     "output_type": "execute_result"
    },
    {
     "data": {
      "image/png": "[encoded data removed]",
      "text/plain": [
       "<Figure size 432x288 with 1 Axes>"
      ]
     },
     "metadata": {
      "needs_background": "light"
     },
     "output_type": "display_data"
    }
   ],
   "source": [
    "plt.figure(num=3)\n",
    "\n",
    "x=np.arange(0, 20, dtype=float)/100\n",
    "\n",
    "# plt.subplot(211)\n",
    "plt.plot(x,14.3e-15*np.exp(x/vt_val(25)), color='blue')\n",
    "# plt.subplot(212)\n",
    "plt.plot(x,14.3e-15*np.exp(x/vt_val(55)), color='red')"
   ]
  },
  {
   "cell_type": "markdown",
   "metadata": {},
   "source": [
    "## Exemplo 01\n",
    "\n",
    "Suponha que o um transistor Q1 do tipo QN2222a está conectado ao circuito como mostrado na figura abaixo (apenas os parâmetros IS, Vaf e Bf são utilizados nos cálculos). Calcule a corrente de polarização Ic para Vdd=20V e Rc=500 Ohms."
   ]
  },
  {
   "cell_type": "code",
   "execution_count": 8,
   "metadata": {},
   "outputs": [],
   "source": [
    "#inicialização das variáveis utilizadas no problema.\n",
    "IS=14.3e-15 # Corrente de saturação do transistor\n",
    "VA=74.03    # Tensão de Early em polarização direta\n",
    "Bf=255.9    # Beta em polarização direta\n",
    "\n",
    "vdd=20      # Tensão Vdd de polarização do transistor\n",
    "Rc=500      # Resistência de coletor"
   ]
  },
  {
   "cell_type": "markdown",
   "metadata": {},
   "source": [
    "Queremos calcular a variação na corrente de coletor (Ic) para quando a temperatura muda em 10&deg;C. Além disso, devemos descobrir qual o valor da corrente Ib para ambas variações da corrente."
   ]
  },
  {
   "cell_type": "markdown",
   "metadata": {},
   "source": [
    "Assumindo um ponto de polarização vbe=0.72 V, devemos calcular a corrente coletor Ic. Nesse caso, como a tensão de Early foi mencionada no modelo do transistor, devemos utilizar a equação de corrente de coletor com o termo corretivo da tensão de Early (1+Vce/Va)."
   ]
  },
  {
   "cell_type": "code",
   "execution_count": 9,
   "metadata": {},
   "outputs": [
    {
     "name": "stdout",
     "output_type": "stream",
     "text": [
      "Vbe: 0.72\n",
      "Ic: 0.019982348083627244\n",
      "Vce: 10.008825958186378 \n",
      "\n",
      "Ib=Ic/Bf: 7.808654976016899e-05\n"
     ]
    }
   ],
   "source": [
    "vbe1=0.72 # Inicia a tensão base-emissor em Vbe1=0.72V.\n",
    "T1=27     # Inicia a temperatura_1 em 300.15 Kelvin (aproximadamente 27 celcius). Essa temperatura equivale à uma tensão termica de aproximadamente 25.864mV\n",
    "\n",
    "# O próximo passo é o calculo da corrente de coletor Ic.\n",
    "# Aqui utilizamos três iterações para reduzir os erros numéricos.\n",
    "# O chute inicial da tensão VCE=VDD (iteração 0)\n",
    "# as iterações 1 e 2 utilizam o valor da tensão vce calculado\n",
    "# por vce=vdd-ic*Rc\n",
    "\n",
    "#itr_0\n",
    "ic=IS*np.exp(vbe1/vt_val(T1))*(1+vdd/VA)\n",
    "vce=vdd-ic*Rc\n",
    "\n",
    "#itr_1\n",
    "ic=IS*np.exp(vbe1/vt_val(T1))*(1+vce/VA)\n",
    "vce=vdd-ic*Rc\n",
    "\n",
    "#itr_2\n",
    "ic=IS*np.exp(vbe1/vt_val(T1))*(1+vce/VA)\n",
    "vce=vdd-ic*Rc\n",
    "\n",
    "# imprime os resultados em tela\n",
    "print('Vbe:',vbe1)\n",
    "print('Ic:',ic)\n",
    "print('Vce:',vce,'\\n')\n",
    "\n",
    "#Calcula a corrente Ib utilizando Bf e imprime o resultado em tela\n",
    "Ib=ic/Bf;\n",
    "print('Ib=Ic/Bf:',Ib)"
   ]
  },
  {
   "cell_type": "markdown",
   "metadata": {},
   "source": [
    "________\n",
    "Uma maneira melhor de executar os cálculos é utilizando uma função. Definimos a função itr_problema que executa *itr* iterações dos cálculos de corrente de acordo com os parâmetros de entrada definidos para o problema em questão. Note que o equacionamento dessa função é exclusivo para esse exemplo e caso você queira utilizá-lo para calcular a corrente Ic de outro circuito será preciso corrigir as equações."
   ]
  },
  {
   "cell_type": "code",
   "execution_count": 10,
   "metadata": {},
   "outputs": [],
   "source": [
    "def itr_problema(IS, VA, BF, T, VCE, VBE, RC, VDD, itr):\n",
    "    \n",
    "# Os parâmetros de entrada da função são:\n",
    "# IS - Corrente de saturação reversa\n",
    "# VA - Tensão de Early em polarização direta\n",
    "# BF - Beta em polarização direta\n",
    "# T - Temperatura em Celcius\n",
    "# VCE - Chute inicial para tensão VCE\n",
    "# VBE - Tensão de polarização base-emissor\n",
    "# RC - Resistência de coletor\n",
    "# VDD - Tensão de polarização\n",
    "# itr - Número de iterações\n",
    "\n",
    "    vce=VCE\n",
    "    for i in range(0,itr):\n",
    "        ic=IS*np.exp(VBE/vt_val(T))*(1+vce/VA)\n",
    "        vce=VDD-ic*RC\n",
    "#         print(ic)\n",
    "\n",
    "# A função retorna o valor de tensão Vce e corrente Ic para o transistor TBJ do circuito do exemplo.\n",
    "    return vce,ic"
   ]
  },
  {
   "cell_type": "markdown",
   "metadata": {},
   "source": [
    "___________\n",
    "No item anterior calculamos (com três iterações) a corrente de coletor para temperatura de 27&deg;C. Agora queremos calcular a mesma corrente para uma temperatura de 37&deg;C. Agora podemos utilizar a função itr_problema() para executar esse cálculo (experimente inclusive aumentar a quantidade de iterações e veja a diferênça nas respostas)."
   ]
  },
  {
   "cell_type": "code",
   "execution_count": 12,
   "metadata": {},
   "outputs": [
    {
     "name": "stdout",
     "output_type": "stream",
     "text": [
      "Vbe: 0.72\n",
      "Ic: 0.008676916307981036\n",
      "Vce: 15.66154184600948 \n",
      "\n",
      "Ib=Ic/Bf: 3.390744942548275e-05\n"
     ]
    },
    {
     "ename": "NameError",
     "evalue": "name 'VBE' is not defined",
     "output_type": "error",
     "traceback": [
      "\u001b[0;31m---------------------------------------------------------------------------\u001b[0m",
      "\u001b[0;31mNameError\u001b[0m                                 Traceback (most recent call last)",
      "\u001b[0;32m<ipython-input-12-e8d256dfe4e6>\u001b[0m in \u001b[0;36m<module>\u001b[0;34m\u001b[0m\n\u001b[1;32m     17\u001b[0m \u001b[0;31m# Calcula tensão de polarização de base para resistor de base Rb (conectado em série à base do transistor)\u001b[0m\u001b[0;34m\u001b[0m\u001b[0;34m\u001b[0m\u001b[0;34m\u001b[0m\u001b[0m\n\u001b[1;32m     18\u001b[0m \u001b[0mRb\u001b[0m\u001b[0;34m=\u001b[0m\u001b[0;36m10000\u001b[0m\u001b[0;34m\u001b[0m\u001b[0;34m\u001b[0m\u001b[0m\n\u001b[0;32m---> 19\u001b[0;31m \u001b[0mVx\u001b[0m\u001b[0;34m=\u001b[0m\u001b[0mIb\u001b[0m\u001b[0;34m*\u001b[0m\u001b[0mRb\u001b[0m\u001b[0;34m+\u001b[0m\u001b[0mVBE\u001b[0m\u001b[0;34m\u001b[0m\u001b[0;34m\u001b[0m\u001b[0m\n\u001b[0m\u001b[1;32m     20\u001b[0m \u001b[0mprint\u001b[0m\u001b[0;34m(\u001b[0m\u001b[0;34m'Vx:'\u001b[0m\u001b[0;34m,\u001b[0m\u001b[0mVx\u001b[0m\u001b[0;34m)\u001b[0m\u001b[0;34m\u001b[0m\u001b[0;34m\u001b[0m\u001b[0m\n",
      "\u001b[0;31mNameError\u001b[0m: name 'VBE' is not defined"
     ]
    }
   ],
   "source": [
    "# Executa a função itr_problema() com três iterações \n",
    "# e nas mesmas condições do exemplo anterior.\n",
    "# as variáveis de retorno vv e ii são respectivamente\n",
    "# tensão (Vce) e corrente de coletor (Ic).\n",
    "# A temperatura utilizada para os cálculos é de 37 Centigrados\n",
    "vv,ii=itr_problema(IS,VA,Bf,37,vdd,0.72,Rc,vdd,3)\n",
    "\n",
    "# Imprime resultado em tela\n",
    "print('Vbe:',0.72)\n",
    "print('Ic:',ii)\n",
    "print('Vce:',vv,'\\n')\n",
    "\n",
    "# Calcula corrente de base para resistor de base Rb\n",
    "Ib=ii/Bf;\n",
    "print('Ib=Ic/Bf:',Ib)\n",
    "\n",
    "# Calcula tensão de polarização de base para resistor de base Rb (conectado em série à base do transistor)\n",
    "Rb=10000\n",
    "Vx=Ib*Rb+0.72\n",
    "print('Vx:',Vx)"
   ]
  },
  {
   "cell_type": "markdown",
   "metadata": {},
   "source": [
    "______\n",
    "Note que apesar da mesma polarização (Vbe, Vdd e Rc) a corrente de coletor diminuiu devido ao efeito da temperatura. Uma variação de 10&deg;C (entre 27&deg;C e 37&deg;C) fez com que a corrente Ic variasse de 19.982mA para 8.676mA, e a tensão Vce variasse de 10.008V para 15.661V. O que aproxima o transistor da região de corte.\n",
    "\n",
    "Nesse mesmo caso, se quisermos manter o mesmo valor de corrente Ic no transistor, é preciso que a tensão de Vbe aumente de 2mV/&deg;C. Por exemplo, quando a temperatura aumenta de 27&deg;C, para 30&deg;C, a tensão Vbe deve ser aumentada de 6mV (de 0.72V para 0.726V):"
   ]
  },
  {
   "cell_type": "code",
   "execution_count": 45,
   "metadata": {},
   "outputs": [
    {
     "name": "stdout",
     "output_type": "stream",
     "text": [
      "Vbe: 0.726\n",
      "Ic: 0.019174801371896404\n",
      "Vce: 10.412599314051798 \n",
      "\n"
     ]
    }
   ],
   "source": [
    "vv,ii=itr_problema(IS,VA,Bf,30,vdd,0.726,Rc,vdd,3)\n",
    "\n",
    "# Imprime resultado em tela\n",
    "print('Vbe:',0.726)\n",
    "print('Ic:',ii)\n",
    "print('Vce:',vv,'\\n')\n"
   ]
  },
  {
   "cell_type": "markdown",
   "metadata": {},
   "source": [
    "# Exemplo 02\n",
    "\n",
    "Suponha que circuito da figura anterior é um componente de um sistema que será utilizado nas cidades de João Pessoa (Brasil) e Canberra (Austrália). A temperatura média (méd, máx e min) anual dessas duas cidades pode ser encontrada nos endereços abaixo:\n",
    "\n",
    "* https://en.wikipedia.org/wiki/List_of_cities_by_average_temperature\n",
    "* João Pessoa - JPA (1961-1990):\n",
    "  * http://www.inmet.gov.br/webcdp/climatologia/normais/imagens/normais\n",
    "* Canberra - CBR (1939-2010):\n",
    "  * http://www.bom.gov.au/climate/averages/tables/cw_070014_All.shtml\n",
    "\n",
    "Mostre a variação da corrente de coletor Ic para o circuito nas duas cidades (e que utilizam a mesma polarização)."
   ]
  },
  {
   "cell_type": "code",
   "execution_count": 14,
   "metadata": {},
   "outputs": [
    {
     "data": {
      "text/plain": [
       "[<matplotlib.lines.Line2D at 0x7f775d29f780>,\n",
       " <matplotlib.lines.Line2D at 0x7f775d29fcf8>,\n",
       " <matplotlib.lines.Line2D at 0x7f775d29fda0>]"
      ]
     },
     "execution_count": 14,
     "metadata": {},
     "output_type": "execute_result"
    },
    {
     "data": {
      "image/png": "[encoded data removed]",
      "text/plain": [
       "<Figure size 432x288 with 2 Axes>"
      ]
     },
     "metadata": {
      "needs_background": "light"
     },
     "output_type": "display_data"
    },
    {
     "data": {
      "image/png": "[encoded data removed]",
      "text/plain": [
       "<Figure size 432x288 with 2 Axes>"
      ]
     },
     "metadata": {
      "needs_background": "light"
     },
     "output_type": "display_data"
    }
   ],
   "source": [
    "mes=['jan','fev','mar','abr','mai','jun','jul','ago','set','out','nov','dez']\n",
    "\n",
    "Tc_jpa=[27.1,27.2,27.0,26.7,26.0,25.2,24.2,24.3,25.1,26.3,26.7,26.9]\n",
    "Tc_jpa_max=[30.2,30.5,30.0,29.8,29.6,28.3,27.5,27.8,28.3,29.3,29.7,30.0]\n",
    "Tc_jpa_min=[23.7,23.5,23.2,22.8,22.2,21.4,20.9,20.5,21.5,23.0,23.7,23.9]\n",
    "\n",
    "ic_jpa=[IS*np.exp(vbe1/vt_val(x)) for x in Tc_jpa]\n",
    "ic_jpa_max=[IS*np.exp(vbe1/vt_val(x)) for x in Tc_jpa_max]\n",
    "ic_jpa_min=[IS*np.exp(vbe1/vt_val(x)) for x in Tc_jpa_min]\n",
    "\n",
    "# plt.figure(num=1, figsize=(15,10))\n",
    "plt.figure(num=1)\n",
    "\n",
    "plt.subplot(211)\n",
    "plt.grid(True)\n",
    "plt.xlabel('Mês')\n",
    "plt.ylabel('Temperature (\\xb0C)')\n",
    "plt.plot(mes,Tc_jpa_max,mes,Tc_jpa,mes,Tc_jpa_min)\n",
    "\n",
    "plt.subplot(212)\n",
    "plt.grid(True)\n",
    "plt.xlabel('Mês')\n",
    "plt.ylabel('Corrente (Ampère)')\n",
    "plt.plot(mes,ic_jpa,mes,ic_jpa_max,mes,ic_jpa_min)\n",
    "\n",
    "Tc_cbr=[20.6,20.1,17.6,13.4,9.4,6.7,5.7,7.0,9.8,12.8,15.8,18.8]\n",
    "Tc_cbr_max=[28.0,27.1,24.5,20.0,15.6,12.3,11.4,13.0,16.2,19.4,22.7,26.1]\n",
    "Tc_cbr_min=[13.2,13.1,10.7,6.7,3.2,1.0,-0.1,1.0,3.3,6.1,8.8,11.4]\n",
    "\n",
    "ic_cbr=[IS*np.exp(vbe1/vt_val(x)) for x in Tc_cbr]\n",
    "ic_cbr_max=[IS*np.exp(vbe1/vt_val(x)) for x in Tc_cbr_max]\n",
    "ic_cbr_min=[IS*np.exp(vbe1/vt_val(x)) for x in Tc_cbr_min]\n",
    "\n",
    "# plt.figure(num=2, figsize=(15,10))\n",
    "plt.figure(num=2)\n",
    "\n",
    "plt.subplot(211)\n",
    "plt.grid(True)\n",
    "plt.xlabel('Mês')\n",
    "plt.ylabel('Temperature (\\xb0C)')\n",
    "plt.plot(mes,Tc_cbr_max,mes,Tc_cbr,mes,Tc_cbr_min)\n",
    "\n",
    "plt.subplot(212)\n",
    "plt.grid(True)\n",
    "plt.xlabel('Mês')\n",
    "plt.ylabel('Corrente (Ampère)')\n",
    "plt.plot(mes,ic_cbr,mes,ic_cbr_max,mes,ic_cbr_min)"
   ]
  },
  {
   "cell_type": "code",
   "execution_count": 15,
   "metadata": {},
   "outputs": [
    {
     "name": "stdout",
     "output_type": "stream",
     "text": [
      "Mínima Corrente em JPA: 0.01724697135727302 @ 24.2 °C\n",
      "Máxima Corrente em JPA: 0.02283512058339636 @ 27.2 °C\n",
      "\n",
      "Mínima Corrente em CBR: 0.03222242669567011 @ 5.7 °C\n",
      "Máxima Corrente em CBR: 0.14730442913352457 @ 20.6 °C\n"
     ]
    }
   ],
   "source": [
    "print('Mínima Corrente em JPA:', np.min(ic_jpa), '@', np.min(Tc_jpa), '\\xb0C')\n",
    "print('Máxima Corrente em JPA:', np.max(ic_jpa), '@', np.max(Tc_jpa), '\\xb0C\\n')\n",
    "\n",
    "print('Mínima Corrente em CBR:', np.min(ic_cbr), '@', np.min(Tc_cbr), '\\xb0C')\n",
    "print('Máxima Corrente em CBR:', np.max(ic_cbr), '@', np.max(Tc_cbr), '\\xb0C')"
   ]
  },
  {
   "cell_type": "code",
   "execution_count": null,
   "metadata": {},
   "outputs": [],
   "source": []
  }
 ],
 "metadata": {
  "kernelspec": {
   "display_name": "Python 3",
   "language": "python",
   "name": "python3"
  },
  "language_info": {
   "codemirror_mode": {
    "name": "ipython",
    "version": 3
   },
   "file_extension": ".py",
   "mimetype": "text/x-python",
   "name": "python",
   "nbconvert_exporter": "python",
   "pygments_lexer": "ipython3",
   "version": "3.6.8"
  }
 },
 "nbformat": 4,
 "nbformat_minor": 2
}
