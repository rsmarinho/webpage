{
 "cells": [
  {
   "cell_type": "markdown",
   "metadata": {},
   "source": [
    "# Notebook para estudo e explicação de polarização de transistores TBJ\n",
    "\n",
    "Nesse notebook estudaremos a polarização do transistor bipolar de junção. Como exemplo utilizaremos o transistor para propósito geral QN2222a. O datasheet do transistor em questão (fabricado pela farchild) é encontrado em [link][link], outros datasheets (com as mesmas informações) podem ser encontrados facilmente em outros sites na internet (you can google it). O modelo SPICE do transistor também está no data sheet, e replicado logo abaixo:\n",
    "\n",
    ".model Q2N2222 \n",
    "NPN(Is = 14.34f Xti = 3 Eg = 1.11 Vaf = 74.03 Bf = 255.9 Ne = 1.307 Ise = 14.34 Ikf = .2847 Xtb = 1.5 Br = 6.092 Isc = 0 Ikr = 0 Rc = 1 Cjc = 7.306p Mjc = .3416 Vjc = .75 Fc = .5 Cje = 22.01p Mje = .377 Vje = .75 Tr = 46.91n Tf = 411.1p Itf = .6 Vtf = 1.7 Xtf = 3 Rb = 10)"
   ]
  },
  {
   "cell_type": "code",
   "execution_count": 1,
   "metadata": {},
   "outputs": [],
   "source": [
    "import numpy as np # Carrega numpy para matemática computacional\n",
    "import matplotlib.pyplot as plt # Carrega pyplot para plotar gráficos\n",
    "\n",
    "np.set_printoptions(precision=6)\n",
    "float_formatter = lambda x: \"%.6f\" % x\n",
    "np.set_printoptions(formatter={'float_kind':float_formatter})"
   ]
  },
  {
   "cell_type": "code",
   "execution_count": 2,
   "metadata": {},
   "outputs": [],
   "source": [
    "k=1.38064852e-23 # Constante de Boltzmann\n",
    "q=1.60217662e-19 # Carga do elétron (portador)"
   ]
  },
  {
   "cell_type": "code",
   "execution_count": 3,
   "metadata": {},
   "outputs": [],
   "source": [
    "def ctok(c):\n",
    "    return c+273.15"
   ]
  },
  {
   "cell_type": "code",
   "execution_count": 4,
   "metadata": {},
   "outputs": [],
   "source": [
    "def vt_val(temp):\n",
    "    return k*ctok(temp)/q"
   ]
  },
  {
   "cell_type": "code",
   "execution_count": 5,
   "metadata": {},
   "outputs": [
    {
     "name": "stdout",
     "output_type": "stream",
     "text": [
      "0.025865\n"
     ]
    }
   ],
   "source": [
    "print('%3.6f' % vt_val(27))"
   ]
  },
  {
   "cell_type": "code",
   "execution_count": 6,
   "metadata": {},
   "outputs": [
    {
     "name": "stdout",
     "output_type": "stream",
     "text": [
      "0.030174\n"
     ]
    }
   ],
   "source": [
    "print('%3.6f' % vt_val(77))"
   ]
  },
  {
   "cell_type": "markdown",
   "metadata": {},
   "source": [
    "___________\n",
    "Para compreender o efeito da temperatura, primeiramente veja que, ao aumentar a temperatura o termo da função exponencial diminui, fazendo com que a função torne-se *mais lenta*. Portanto, assumindo valores mais baixos. Isso significa que para os mesmos valores de polarização do transistor, o aumento da temperatura faz com que a corrente de coletor diminua."
   ]
  },
  {
   "cell_type": "code",
   "execution_count": 7,
   "metadata": {},
   "outputs": [
    {
     "data": {
      "text/plain": [
       "[<matplotlib.lines.Line2D at 0x7f1a929f0ef0>]"
      ]
     },
     "execution_count": 7,
     "metadata": {},
     "output_type": "execute_result"
    },
    {
     "data": {
      "image/png": "[encoded data removed]",
      "text/plain": [
       "<Figure size 432x288 with 1 Axes>"
      ]
     },
     "metadata": {
      "needs_background": "light"
     },
     "output_type": "display_data"
    }
   ],
   "source": [
    "plt.figure(num=3)\n",
    "\n",
    "x=np.arange(0, 20, dtype=float)/100\n",
    "\n",
    "# plt.subplot(211)\n",
    "plt.plot(x,14.3e-15*np.exp(x/vt_val(25)), color='blue')\n",
    "# plt.subplot(212)\n",
    "plt.plot(x,14.3e-15*np.exp(x/vt_val(55)), color='red')"
   ]
  },
  {
   "cell_type": "markdown",
   "metadata": {},
   "source": [
    "___\n",
    "Quando polarizamos o transistor diretamente em tensão (na base: Vx=Vb=Vbe). a variação da tempertatura exerce figura muito importante na variação da corrente de coletor (Ic) devido à modificação direta de parâmetros do transistor (notadamente $\\beta$). ISso acontece pois apesar de Ic depender exponencialmente de Vbe, sua relação com a corrente de base Ib não pode ser negligenciada. Os circuitos de polarização devem portanto, reduzir esses efeitos da variação da temperatura no transistor."
   ]
  },
  {
   "cell_type": "markdown",
   "metadata": {},
   "source": [
    "## Exemplo 01\n",
    "### Exemplos iniciais de polarização\n",
    "\n",
    "Suponha que o um transistor Q1 do tipo QN2222a está conectado ao circuito como mostrado na figura abaixo (apenas os parâmetros IS, Vaf e Bf são utilizados nos cálculos). Calcule a corrente de polarização Ic para Vdd=20V e Rc=500 Ohms."
   ]
  },
  {
   "cell_type": "code",
   "execution_count": 8,
   "metadata": {},
   "outputs": [],
   "source": [
    "#inicialização das variáveis utilizadas no problema.\n",
    "IS=14.3e-15 # Corrente de saturação do transistor\n",
    "VA=74.03    # Tensão de Early em polarização direta\n",
    "Bf=255.9    # Beta em polarização direta (Bf0 ou hfe no datasheet)\n",
    "\n",
    "vdd=20      # Tensão Vdd de polarização do transistor\n",
    "Rc=500      # Resistência de coletor"
   ]
  },
  {
   "cell_type": "markdown",
   "metadata": {},
   "source": [
    "Queremos calcular a variação na corrente de coletor (Ic) para quando a temperatura muda em 10&deg;C. Além disso, devemos descobrir qual o valor da corrente Ib para ambas variações da corrente."
   ]
  },
  {
   "cell_type": "markdown",
   "metadata": {},
   "source": [
    "Assumindo um ponto de polarização vbe=0.72 V, devemos calcular a corrente coletor Ic. Nesse caso, como a tensão de Early foi mencionada no modelo do transistor, devemos utilizar a equação de corrente de coletor com o termo corretivo da tensão de Early (1+Vce/Va)."
   ]
  },
  {
   "cell_type": "code",
   "execution_count": 9,
   "metadata": {},
   "outputs": [
    {
     "name": "stdout",
     "output_type": "stream",
     "text": [
      "Vbe: 0.702000\n",
      "Ic: 0.010508\n",
      "Vce: 14.746109 \n",
      "\n",
      "Beta: 304.446367\n",
      "Ib=Ic/Bf: 0.000035\n"
     ]
    }
   ],
   "source": [
    "vbe1=0.702 # Inicia a tensão base-emissor em Vbe1=0.702V.\n",
    "T1=27     # Inicia a temperatura_1 em 300.15 Kelvin (aproximadamente 27 celcius). Essa temperatura equivale à uma tensão termica de aproximadamente 25.864mV\n",
    "\n",
    "# O próximo passo é o calculo da corrente de coletor Ic.\n",
    "# Aqui utilizamos três iterações para reduzir os erros numéricos.\n",
    "# O chute inicial da tensão VCE=VDD (iteração 0)\n",
    "# as iterações 1 e 2 utilizam o valor da tensão vce calculado\n",
    "# por vce=vdd-ic*Rc\n",
    "\n",
    "#itr_0\n",
    "ic=IS*np.exp(vbe1/vt_val(T1))*(1+vdd/VA)\n",
    "vce=vdd-ic*Rc\n",
    "\n",
    "#itr_1\n",
    "ic=IS*np.exp(vbe1/vt_val(T1))*(1+vce/VA)\n",
    "vce=vdd-ic*Rc\n",
    "\n",
    "#itr_2\n",
    "ic=IS*np.exp(vbe1/vt_val(T1))*(1+vce/VA)\n",
    "vce=vdd-ic*Rc\n",
    "\n",
    "# imprime os resultados em tela\n",
    "print('Vbe: %3.6f' % vbe1)\n",
    "print('Ic: %3.6f' % ic)\n",
    "print('Vce: %3.6f' % vce,'\\n')\n",
    "\n",
    "#Calcula a corrente Ib utilizando Bf e imprime o resultado em tela\n",
    "vcb=(vce-vbe1)\n",
    "B = Bf*(1+(vcb/VA))\n",
    "Ib=ic/B;\n",
    "\n",
    "print('Beta: %3.6f' % B)\n",
    "print('Ib=Ic/Bf: %3.6f' % Ib)"
   ]
  },
  {
   "cell_type": "markdown",
   "metadata": {},
   "source": [
    "________\n",
    "Uma maneira melhor de executar os cálculos é utilizando uma função. Definimos a função itr_problema que executa *itr* iterações dos cálculos de corrente de acordo com os parâmetros de entrada definidos para o problema em questão. Note que o equacionamento dessa função é exclusivo para esse exemplo e caso você queira utilizá-lo para calcular a corrente Ic de outro circuito será preciso corrigir as equações."
   ]
  },
  {
   "cell_type": "code",
   "execution_count": 10,
   "metadata": {},
   "outputs": [],
   "source": [
    "def itr_problema(IS, VA, BF, T, VCE, VBE, RC, VDD, itr):\n",
    "    \n",
    "# Os parâmetros de entrada da função são:\n",
    "# IS - Corrente de saturação reversa\n",
    "# VA - Tensão de Early em polarização direta\n",
    "# BF - Beta em polarização direta\n",
    "# T - Temperatura em Celcius\n",
    "# VCE - Chute inicial para tensão VCE\n",
    "# VBE - Tensão de polarização base-emissor\n",
    "# RC - Resistência de coletor\n",
    "# VDD - Tensão de polarização\n",
    "# itr - Número de iterações\n",
    "\n",
    "    vce=VCE\n",
    "    for i in range(0,itr):\n",
    "        ic=IS*np.exp(VBE/vt_val(T))*(1+vce/VA)\n",
    "        vce=VDD-ic*RC\n",
    "#         print(ic)\n",
    "\n",
    "# A função retorna o valor de tensão Vce e corrente Ic para o transistor TBJ do circuito do exemplo.\n",
    "    return vce,ic"
   ]
  },
  {
   "cell_type": "markdown",
   "metadata": {},
   "source": [
    "___________\n",
    "No item anterior calculamos (com três iterações) a corrente de coletor para temperatura de 77&deg;C. Agora queremos calcular a mesma corrente para uma temperatura de 37&deg;C. Agora podemos utilizar a função itr_problema() para executar esse cálculo (experimente inclusive aumentar a quantidade de iterações e veja a diferênça nas respostas)."
   ]
  },
  {
   "cell_type": "code",
   "execution_count": 11,
   "metadata": {},
   "outputs": [
    {
     "name": "stdout",
     "output_type": "stream",
     "text": [
      "Vbe: 0.702000\n",
      "Ic: 0.004527\n",
      "Vce: 17.736745 \n",
      "\n",
      "Beta: 314.784117\n",
      "Ib=Ic/Bf: 0.000033\n"
     ]
    }
   ],
   "source": [
    "vbe2=0.702 # Inicia a tensão base-emissor em Vbe1=0.702V.\n",
    "T1=77     # Inicia a temperatura_2 em 350.15 Kelvin (aproximadamente 77 celcius).\n",
    "\n",
    "# Executa a função itr_problema() com três iterações \n",
    "# e nas mesmas condições do exemplo anterior.\n",
    "# as variáveis de retorno vv e ii são respectivamente\n",
    "# tensão (Vce) e corrente de coletor (Ic).\n",
    "# A temperatura utilizada para os cálculos é de 37 Centigrados\n",
    "vv,ii=itr_problema(IS,VA,Bf,37,vdd,0.702,Rc,vdd,3)\n",
    "\n",
    "# Imprime resultado em tela\n",
    "print('Vbe: %3.6f' % 0.702)\n",
    "print('Ic: %3.6f' % ii)\n",
    "print('Vce: %3.6f' % vv,'\\n')\n",
    "\n",
    "#Calcula a corrente Ib utilizando Bf e imprime o resultado em tela\n",
    "vcb=(vv-vbe2)\n",
    "B = Bf*(1+(vcb/VA))\n",
    "Ib=ic/B;\n",
    "\n",
    "print('Beta: %3.6f' % B)\n",
    "print('Ib=Ic/Bf: %3.6f' % Ib)"
   ]
  },
  {
   "cell_type": "markdown",
   "metadata": {},
   "source": [
    "___\n",
    "É preciso, portanto que tensão de base Vbe aumente junto com a temperatura para que a corrente do transistor não mude. A saber, esse aumento de temperatura é de aproximadamente 2mV/&deg;C."
   ]
  },
  {
   "cell_type": "code",
   "execution_count": 12,
   "metadata": {},
   "outputs": [
    {
     "name": "stdout",
     "output_type": "stream",
     "text": [
      "Vbe1: 0.705423\n",
      "Vbe2: 0.822935\n",
      "\n",
      "Vbe(T2)-Vbe(T1): 0.117512\n"
     ]
    }
   ],
   "source": [
    "Ic = 10e-3\n",
    "T1 = 27\n",
    "T2 = 77\n",
    "\n",
    "Vbe1 = vt_val(T1)*np.log(Ic/IS)\n",
    "print('Vbe1: %3.6f' % Vbe1)\n",
    "Vbe2 = vt_val(T2)*np.log(Ic/IS)\n",
    "print('Vbe2: %3.6f' % Vbe2)\n",
    "\n",
    "print('\\nVbe(T2)-Vbe(T1): %3.6f' % (Vbe2-Vbe1))"
   ]
  },
  {
   "cell_type": "markdown",
   "metadata": {},
   "source": [
    "No nosso caso, vemos que o aumento de temperatura na tensão Vbe é de aproximadamente 20mV.\n",
    "\n",
    "De outra maneira, ao invés de tentarmos variar a tensão de polarização Vbe, é mais fácil fixar a corrente Ib de forma que a influência da variação da temperatura seja minimizada. O circuito com resistor de polarização de base faz esse trabalho.\n",
    "\n",
    "Nessa situação a idéia é que a queda de tensão no resistor de base seja muito mais importante do que a tensão Vbe, fazendo com que a corrente Ib permaneça aproximadamente a mesma com o aumento da temperatura, pois (para nosso exemplo):\n",
    "$$\n",
    "V_{cc}=I_{B0}R_B+V_{BE}\n",
    "$$"
   ]
  },
  {
   "cell_type": "markdown",
   "metadata": {},
   "source": [
    "## Exemplo 02\n",
    "### Variação da corrente Ic com a temperatura para Vbe fixo\n",
    "\n",
    "Suponha que circuito da figura anterior é um componente de um sistema que será utilizado nas cidades de João Pessoa (Brasil) e Canberra (Austrália). A temperatura média (méd, máx e min) anual dessas duas cidades pode ser encontrada nos endereços abaixo:\n",
    "\n",
    "* https://en.wikipedia.org/wiki/List_of_cities_by_average_temperature\n",
    "* João Pessoa - JPA (1961-1990):\n",
    "  * http://www.inmet.gov.br/webcdp/climatologia/normais/imagens/normais\n",
    "* Canberra - CBR (1939-2010):\n",
    "  * http://www.bom.gov.au/climate/averages/tables/cw_070014_All.shtml\n",
    "\n",
    "Mostre a variação da corrente de coletor Ic para o circuito nas duas cidades (e que utilizam a mesma polarização)."
   ]
  },
  {
   "cell_type": "code",
   "execution_count": 13,
   "metadata": {},
   "outputs": [
    {
     "data": {
      "text/plain": [
       "[<matplotlib.lines.Line2D at 0x7f1a9089ac88>,\n",
       " <matplotlib.lines.Line2D at 0x7f1a9089af98>,\n",
       " <matplotlib.lines.Line2D at 0x7f1a908252e8>]"
      ]
     },
     "execution_count": 13,
     "metadata": {},
     "output_type": "execute_result"
    },
    {
     "data": {
      "image/png": "[encoded data removed]",
      "text/plain": [
       "<Figure size 432x288 with 2 Axes>"
      ]
     },
     "metadata": {
      "needs_background": "light"
     },
     "output_type": "display_data"
    },
    {
     "data": {
      "image/png": "[encoded data removed]",
      "text/plain": [
       "<Figure size 432x288 with 2 Axes>"
      ]
     },
     "metadata": {
      "needs_background": "light"
     },
     "output_type": "display_data"
    }
   ],
   "source": [
    "mes=['jan','fev','mar','abr','mai','jun','jul','ago','set','out','nov','dez']\n",
    "\n",
    "Tc_jpa=[27.1,27.2,27.0,26.7,26.0,25.2,24.2,24.3,25.1,26.3,26.7,26.9]\n",
    "Tc_jpa_max=[30.2,30.5,30.0,29.8,29.6,28.3,27.5,27.8,28.3,29.3,29.7,30.0]\n",
    "Tc_jpa_min=[23.7,23.5,23.2,22.8,22.2,21.4,20.9,20.5,21.5,23.0,23.7,23.9]\n",
    "\n",
    "ic_jpa=[IS*np.exp(vbe1/vt_val(x)) for x in Tc_jpa]\n",
    "ic_jpa_max=[IS*np.exp(vbe1/vt_val(x)) for x in Tc_jpa_max]\n",
    "ic_jpa_min=[IS*np.exp(vbe1/vt_val(x)) for x in Tc_jpa_min]\n",
    "\n",
    "# plt.figure(num=1, figsize=(15,10))\n",
    "plt.figure(num=1)\n",
    "\n",
    "plt.subplot(211)\n",
    "plt.grid(True)\n",
    "plt.xlabel('Mês')\n",
    "plt.ylabel('Temperature (\\xb0C)')\n",
    "plt.plot(mes,Tc_jpa_max,mes,Tc_jpa,mes,Tc_jpa_min)\n",
    "\n",
    "plt.subplot(212)\n",
    "plt.grid(True)\n",
    "plt.xlabel('Mês')\n",
    "plt.ylabel('Corrente (Ampère)')\n",
    "plt.plot(mes,ic_jpa,mes,ic_jpa_max,mes,ic_jpa_min)\n",
    "\n",
    "Tc_cbr=[20.6,20.1,17.6,13.4,9.4,6.7,5.7,7.0,9.8,12.8,15.8,18.8]\n",
    "Tc_cbr_max=[28.0,27.1,24.5,20.0,15.6,12.3,11.4,13.0,16.2,19.4,22.7,26.1]\n",
    "Tc_cbr_min=[13.2,13.1,10.7,6.7,3.2,1.0,-0.1,1.0,3.3,6.1,8.8,11.4]\n",
    "\n",
    "ic_cbr=[IS*np.exp(vbe1/vt_val(x)) for x in Tc_cbr]\n",
    "ic_cbr_max=[IS*np.exp(vbe1/vt_val(x)) for x in Tc_cbr_max]\n",
    "ic_cbr_min=[IS*np.exp(vbe1/vt_val(x)) for x in Tc_cbr_min]\n",
    "\n",
    "# plt.figure(num=2, figsize=(15,10))\n",
    "plt.figure(num=2)\n",
    "\n",
    "plt.subplot(211)\n",
    "plt.grid(True)\n",
    "plt.xlabel('Mês')\n",
    "plt.ylabel('Temperature (\\xb0C)')\n",
    "plt.plot(mes,Tc_cbr_max,mes,Tc_cbr,mes,Tc_cbr_min)\n",
    "\n",
    "plt.subplot(212)\n",
    "plt.grid(True)\n",
    "plt.xlabel('Mês')\n",
    "plt.ylabel('Corrente (Ampère)')\n",
    "plt.plot(mes,ic_cbr,mes,ic_cbr_max,mes,ic_cbr_min)"
   ]
  },
  {
   "cell_type": "code",
   "execution_count": 14,
   "metadata": {},
   "outputs": [
    {
     "name": "stdout",
     "output_type": "stream",
     "text": [
      "Mínima Corrente em JPA: 0.008604 @ 24.2 °C\n",
      "Máxima Corrente em JPA: 0.011312 @ 27.2 °C\n",
      "\n",
      "Mínima Corrente em CBR: 0.015825 @ 5.7 °C\n",
      "Máxima Corrente em CBR: 0.069646 @ 20.6 °C\n"
     ]
    }
   ],
   "source": [
    "print('Mínima Corrente em JPA: %(ic)3.6f @ %(temp)3.1f \\xb0C'   % {'ic':np.min(ic_jpa), 'temp':np.min(Tc_jpa)})\n",
    "print('Máxima Corrente em JPA: %(ic)3.6f @ %(temp)3.1f \\xb0C\\n' % {'ic':np.max(ic_jpa), 'temp':np.max(Tc_jpa)})\n",
    "\n",
    "print('Mínima Corrente em CBR: %(ic)3.6f @ %(temp)3.1f \\xb0C'   % {'ic':np.min(ic_cbr), 'temp':np.min(Tc_cbr)})\n",
    "print('Máxima Corrente em CBR: %(ic)3.6f @ %(temp)3.1f \\xb0C'   % {'ic':np.max(ic_cbr), 'temp':np.max(Tc_cbr)})"
   ]
  },
  {
   "cell_type": "code",
   "execution_count": 15,
   "metadata": {},
   "outputs": [
    {
     "name": "stdout",
     "output_type": "stream",
     "text": [
      "Vbe @ 27°C: 0.705423\n",
      "Vbe @ 77°C: 0.822935\n"
     ]
    }
   ],
   "source": [
    "print('Vbe @ 27\\xb0C: %3.6f' % (vt_val(27)*np.log(10e-3/14.3e-15)))\n",
    "print('Vbe @ 77\\xb0C: %3.6f' % (vt_val(77)*np.log(10e-3/14.3e-15)))"
   ]
  },
  {
   "cell_type": "markdown",
   "metadata": {},
   "source": [
    "____\n",
    "## Exemplo 03\n",
    "### Polarização com resistência de base\n",
    "\n",
    "Suponha agora que você deve utilizar a polarização com resitor de base no circuito do Exemplo 01. Como fica a variação da corrente Ib para uma resistência de base calculada de 493.887KOhm? Ic = 10mA\n"
   ]
  },
  {
   "cell_type": "code",
   "execution_count": 16,
   "metadata": {},
   "outputs": [
    {
     "name": "stdout",
     "output_type": "stream",
     "text": [
      "Rb: 493887.0 Ohm\n",
      "\n",
      "- Calculo da corrente Ib0 com resistor de base em 27°C -\n",
      "- Ic = 10mA -\n",
      "Ic: 0.010000\n",
      "Vce: 15.000000 \n",
      "\n",
      "Ib: 0.000039\n",
      "Vbe: 0.705423\n",
      "\n",
      "Beta: 305.312161\n",
      "Ib=Ic/Bf: 0.000033\n",
      "\n",
      "\n",
      "- Calculo da corrente Ib0 com resistor de base em 77°C -\n",
      "- Ic = 10mA -\n",
      "Ic: 0.010000\n",
      "Vce: 15.000000 \n",
      "\n",
      "Ib: 0.000039\n",
      "Vbe: 0.822935 \n",
      "\n",
      "\n",
      "Beta: 304.905958\n",
      "Ib=Ic/Bf: 0.000033\n"
     ]
    }
   ],
   "source": [
    "Ic = 10e-3\n",
    "Rb = (vdd - 0.7)*Bf/Ic\n",
    "print('Rb:',Rb,'Ohm\\n')\n",
    "\n",
    "# O valor de 0.7 volts se refere à polarização de base.\n",
    "# Perceba que até esse ponto não sabemos exatamente quanto\n",
    "# deve ser esse valor e assumimos (de acordo com o datasheet)\n",
    "# que com essa polarização o transistor oferece aproximadamente\n",
    "# 10mA de corrente Ic. É possível encontrar um valor mais exato\n",
    "# com utilização de iterações. Mas 0.7, nesse caso, é suficiente.\n",
    "#\n",
    "# O cálculo de Rb é dependente de beta do transistor, e portanto,\n",
    "# a polarização do transitor também é. Nos 'livramos' da temperatura\n",
    "# Mas o transistor ainda é muito dependentes de beta.\n",
    "\n",
    "print('- Calculo da corrente Ib0 com resistor de base em 27\\xb0C -')\n",
    "print('- Ic = 10mA -')\n",
    "vbe1 = vt_val(27)*np.log(Ic/IS)\n",
    "Ib = (vdd - Vbe1)/Rb\n",
    "vce1 = vdd - Ic*Rc\n",
    "\n",
    "# Imprime resultado em tela\n",
    "print('Ic: %3.6f' % Ic)\n",
    "print('Vce: %3.6f' % vce1,'\\n')\n",
    "print('Ib: %3.6f' % Ib)\n",
    "print('Vbe: %3.6f' % Vbe1)\n",
    "\n",
    "#Calcula a corrente Ib utilizando Bf e imprime o resultado em tela\n",
    "vcb1=(vce1-vbe1)\n",
    "B1 = Bf*(1+(vcb1/VA))\n",
    "Ib=ic/B;\n",
    "\n",
    "print('\\nBeta: %3.6f' % B1)\n",
    "print('Ib=Ic/Bf: %3.6f' % Ib)\n",
    "\n",
    "\n",
    "print('\\n\\n- Calculo da corrente Ib0 com resistor de base em 77\\xb0C -')\n",
    "print('- Ic = 10mA -')\n",
    "vbe2 = vt_val(77)*np.log(Ic/IS)\n",
    "Ib = (vdd - Vbe2)/Rb\n",
    "vce2 = vdd - Ic*Rc\n",
    "\n",
    "# Imprime resultado em tela\n",
    "print('Ic: %3.6f' % Ic)\n",
    "print('Vce: %3.6f' % vce2,'\\n')\n",
    "print('Ib: %3.6f' % Ib)\n",
    "print('Vbe: %3.6f' % Vbe2,'\\n')\n",
    "\n",
    "#Calcula a corrente Ib utilizando Bf e imprime o resultado em tela\n",
    "vcb2=(vce2-vbe2)\n",
    "B2 = Bf*(1+(vcb2/VA))\n",
    "Ib=ic/B;\n",
    "\n",
    "print('\\nBeta: %3.6f' % B2)\n",
    "print('Ib=Ic/Bf: %3.6f' % Ib)"
   ]
  },
  {
   "cell_type": "markdown",
   "metadata": {},
   "source": [
    "____\n",
    "E se $\\beta_f$ variar na fabricação?"
   ]
  },
  {
   "cell_type": "code",
   "execution_count": 17,
   "metadata": {},
   "outputs": [
    {
     "name": "stdout",
     "output_type": "stream",
     "text": [
      "Rb: 493887.0 Ohm\n",
      "\n",
      "- Calculo da corrente Ic0 com resistor de base e variação de beta em 27°C -\n",
      "- Beta = 200 -\n",
      "Ic: 0.007816\n",
      "Vce: 16.092224 \n",
      "\n",
      "Ib: 0.000039\n",
      "Vbe: 0.700000 \n",
      "\n",
      "- Calculo da corrente Ic0 com resistor de base e variação de beta em 27°C -\n",
      "- Beta = 450 -\n",
      "Ic: 0.017585\n",
      "Vce: 11.207503 \n",
      "\n",
      "Ib: 0.000039\n",
      "Vbe: 0.700000 \n",
      "\n"
     ]
    }
   ],
   "source": [
    "# Ic = 10e-3\n",
    "Rc = 500\n",
    "Rb = 493887.0\n",
    "print('Rb:',Rb,'Ohm\\n')\n",
    "\n",
    "# O cálculo de Rb é dependente de beta do transistor, e portanto,\n",
    "# a polarização do transitor também é. Nos 'livramos' da temperatura\n",
    "# Mas o transistor ainda é muito dependentes de beta.\n",
    "\n",
    "print('- Calculo da corrente Ic0 com resistor de base e variação de beta em 27\\xb0C -')\n",
    "print('- Beta = 200 -')\n",
    "\n",
    "B1 = 200\n",
    "Vbe1 = 0.7\n",
    "Ib = (vdd - Vbe1)/Rb\n",
    "Ic = Ib*B1 # Corrente Ic definida usando beta e corrente de base\n",
    "vce = vdd - Ic * Rc\n",
    "\n",
    "# Imprime resultado em tela\n",
    "print('Ic: %3.6f' % Ic)\n",
    "print('Vce: %3.6f' % vce,'\\n')\n",
    "print('Ib: %3.6f' % Ib)\n",
    "print('Vbe: %3.6f' % Vbe1,'\\n')\n",
    "\n",
    "print('- Calculo da corrente Ic0 com resistor de base e variação de beta em 27\\xb0C -')\n",
    "print('- Beta = 450 -')\n",
    "\n",
    "B2 = 450\n",
    "Vbe2 = 0.7\n",
    "Ib = (vdd - Vbe2)/Rb\n",
    "Ic = Ib*B2 # Corrente Ic definida usando beta e corrente de base\n",
    "vce = vdd - Ic * Rc\n",
    "\n",
    "# Imprime resultado em tela\n",
    "print('Ic: %3.6f' % Ic)\n",
    "print('Vce: %3.6f' % vce,'\\n')\n",
    "print('Ib: %3.6f' % Ib)\n",
    "print('Vbe: %3.6f' % Vbe2,'\\n')"
   ]
  },
  {
   "cell_type": "markdown",
   "metadata": {},
   "source": [
    "____\n",
    "## Exemplo 04\n",
    "### Utilização de resistência de emissor e divisor de tensão na base\n",
    "\n",
    "Suponha que a tempertatura subiu de 27 para 37 graus. Determine o novo valor de beta"
   ]
  },
  {
   "cell_type": "code",
   "execution_count": 18,
   "metadata": {},
   "outputs": [],
   "source": [
    "vcc=3\n",
    "Ic=2e-3\n",
    "\n",
    "Re  = 500\n",
    "vre = Re*Ic\n",
    "\n",
    "vbe27=vt_val(27)*np.log(Ic/IS)\n",
    "vbe37=vt_val(37)*np.log(Ic/IS)\n",
    "\n",
    "vb27=vre+vbe27\n",
    "vb37=vre+vbe37"
   ]
  },
  {
   "cell_type": "code",
   "execution_count": 19,
   "metadata": {},
   "outputs": [
    {
     "name": "stdout",
     "output_type": "stream",
     "text": [
      "itr:  70 >> Ib = 0.000008536, Beta = 234.312\n"
     ]
    }
   ],
   "source": [
    "R1=12000\n",
    "R2=16800\n",
    "\n",
    "rthev = R1*R2/(R1+R2)\n",
    "vthev = vcc*R2/(R1+R2)\n",
    "B=Bf\n",
    "Ib=Ic/B\n",
    "\n",
    "BI = B\n",
    "BSTOP = 0\n",
    "ITR = 1000\n",
    "\n",
    "for i in range(0,ITR):\n",
    "    Ib = (vthev-vbe37)/(rthev+(1+B)*Re)\n",
    "    B  = Ic/Ib\n",
    "\n",
    "    if (BI != np.trunc(B)):\n",
    "        BI = np.trunc(B)\n",
    "        BSTOP = 0\n",
    "    else: BSTOP = BSTOP + 1\n",
    "    if (BSTOP == 20):\n",
    "        print('itr: %(itr)3d >> Ib = %(ib)3.9f, Beta = %(beta)4.3f' % {'itr':i, 'ib':Ib, 'beta':B})\n",
    "        break\n",
    "    elif (i==ITR-1): print('Beta not found')\n",
    "    \n",
    "# for i in range(0,100):\n",
    "#     B=((((vthev-vbe37)/Ib)-rthev)/Re)-1\n",
    "#     Ib=Ic/B\n",
    "#     print('itr : %(itr)3d >> Ib = %(ib)3.6f, Beta = %(beta)4.3f' % {'itr':i, 'ib':Ib, 'beta':B})\n",
    "    "
   ]
  },
  {
   "cell_type": "code",
   "execution_count": null,
   "metadata": {},
   "outputs": [],
   "source": []
  }
 ],
 "metadata": {
  "kernelspec": {
   "display_name": "Python 3",
   "language": "python",
   "name": "python3"
  },
  "language_info": {
   "codemirror_mode": {
    "name": "ipython",
    "version": 3
   },
   "file_extension": ".py",
   "mimetype": "text/x-python",
   "name": "python",
   "nbconvert_exporter": "python",
   "pygments_lexer": "ipython3",
   "version": "3.6.8"
  }
 },
 "nbformat": 4,
 "nbformat_minor": 2
}
